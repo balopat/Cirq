{
 "cells": [
  {
   "cell_type": "code",
   "execution_count": 1,
   "metadata": {},
   "outputs": [
    {
     "ename": "ModuleNotFoundError",
     "evalue": "No module named 'openfermion'",
     "output_type": "error",
     "traceback": [
      "\u001b[0;31m---------------------------------------------------------------------------\u001b[0m",
      "\u001b[0;31mModuleNotFoundError\u001b[0m                       Traceback (most recent call last)",
      "\u001b[0;32m<ipython-input-1-cde91b3c6553>\u001b[0m in \u001b[0;36m<module>\u001b[0;34m\u001b[0m\n\u001b[1;32m      1\u001b[0m \u001b[0;32mimport\u001b[0m \u001b[0mcirq\u001b[0m\u001b[0;34m\u001b[0m\u001b[0m\n\u001b[0;32m----> 2\u001b[0;31m \u001b[0;32mimport\u001b[0m \u001b[0mopenfermion\u001b[0m \u001b[0;32mas\u001b[0m \u001b[0mof\u001b[0m\u001b[0;34m\u001b[0m\u001b[0m\n\u001b[0m\u001b[1;32m      3\u001b[0m \u001b[0;32mimport\u001b[0m \u001b[0mopenfermioncirq\u001b[0m \u001b[0;32mas\u001b[0m \u001b[0mofc\u001b[0m\u001b[0;34m\u001b[0m\u001b[0m\n",
      "\u001b[0;31mModuleNotFoundError\u001b[0m: No module named 'openfermion'"
     ]
    }
   ],
   "source": [
    "import cirq\n",
    "import openfermion as of\n",
    "import openfermioncirq as ofc"
   ]
  },
  {
   "cell_type": "code",
   "execution_count": 2,
   "metadata": {},
   "outputs": [],
   "source": [
    "# Create Hubbard model Hamiltonian\n",
    "# --------------------------------\n",
    "x_dim = 3  # x_dim and y_dim determine the number of qubits\n",
    "y_dim = 2\n",
    "tunneling = 1.0\n",
    "coulomb = 4.0\n",
    "\n",
    "n_sites = x_dim * y_dim\n",
    "n_modes = 2 * n_sites\n",
    "\n",
    "hubbard_model = of.fermi_hubbard(x_dim, y_dim, tunneling, coulomb)\n",
    "\n",
    "# Reorder indices\n",
    "hubbard_model = of.reorder(hubbard_model, of.up_then_down)\n",
    "\n",
    "# Convert to DiagonalCoulombHamiltonian\n",
    "hubbard_hamiltonian = of.get_diagonal_coulomb_hamiltonian(hubbard_model)\n",
    "\n",
    "# Create qubits\n",
    "qubits = cirq.LineQubit.range(n_modes)"
   ]
  },
  {
   "cell_type": "code",
   "execution_count": 3,
   "metadata": {},
   "outputs": [
    {
     "name": "stdout",
     "output_type": "stream",
     "text": [
      "8\n"
     ]
    }
   ],
   "source": [
    "# State preparation circuit for eigenstate of one-body term\n",
    "# ---------------------------------------------------------\n",
    "# Set the pseudo-particle orbitals to fill\n",
    "up_orbitals = range(n_sites//2)\n",
    "down_orbitals = range(n_sites//2)\n",
    "\n",
    "# Create the circuit\n",
    "hubbard_state_preparation_circuit = cirq.Circuit.from_ops(\n",
    "    ofc.prepare_gaussian_state(\n",
    "        qubits,\n",
    "        of.QuadraticHamiltonian(hubbard_hamiltonian.one_body),\n",
    "        occupied_orbitals=(up_orbitals, down_orbitals)\n",
    "    ),\n",
    "    strategy=cirq.InsertStrategy.EARLIEST\n",
    ")\n",
    "\n",
    "print(len(hubbard_state_preparation_circuit))"
   ]
  },
  {
   "cell_type": "code",
   "execution_count": 4,
   "metadata": {},
   "outputs": [
    {
     "name": "stdout",
     "output_type": "stream",
     "text": [
      "490\n"
     ]
    }
   ],
   "source": [
    "# Trotter simulation circuit\n",
    "# --------------------------\n",
    "n_steps = 10  # Determines depth of circuit \n",
    "order = 0\n",
    "\n",
    "hubbard_simulation_circuit = cirq.Circuit.from_ops(\n",
    "    ofc.simulate_trotter(\n",
    "        qubits,\n",
    "        hubbard_hamiltonian,\n",
    "        time=1.0,\n",
    "        n_steps=n_steps,\n",
    "        order=order,\n",
    "        algorithm=ofc.trotter.LINEAR_SWAP_NETWORK\n",
    "    ),\n",
    "    strategy=cirq.InsertStrategy.EARLIEST\n",
    ")\n",
    "\n",
    "print(len(hubbard_simulation_circuit))"
   ]
  },
  {
   "cell_type": "code",
   "execution_count": 5,
   "metadata": {},
   "outputs": [],
   "source": [
    "# Create LiH Hamiltonian\n",
    "# ----------------------\n",
    "bond_length = 1.45\n",
    "geometry = [('Li', (0., 0., 0.)), ('H', (0., 0., bond_length))]\n",
    "n_active_electrons = 4\n",
    "n_active_orbitals = 4\n",
    "lih_hamiltonian = of.load_molecular_hamiltonian(\n",
    "    geometry, 'sto-3g', 1, format(bond_length), n_active_electrons, n_active_orbitals)\n",
    "\n",
    "# Generate qubits\n",
    "n_qubits = of.count_qubits(lih_hamiltonian)\n",
    "qubits = cirq.LineQubit.range(n_qubits)"
   ]
  },
  {
   "cell_type": "code",
   "execution_count": 6,
   "metadata": {},
   "outputs": [
    {
     "name": "stdout",
     "output_type": "stream",
     "text": [
      "5\n"
     ]
    }
   ],
   "source": [
    "# State preparation circuit for eigenstate of one-body term\n",
    "# ---------------------------------------------------------\n",
    "# Set the pseudo-particle orbitals to fill\n",
    "occupied_orbitals = range(n_qubits//2)\n",
    "\n",
    "# Create the circuit\n",
    "lih_state_preparation_circuit = cirq.Circuit.from_ops(\n",
    "    ofc.prepare_gaussian_state(\n",
    "        qubits,\n",
    "        of.QuadraticHamiltonian(lih_hamiltonian.one_body_tensor),\n",
    "        occupied_orbitals=(up_orbitals, down_orbitals)\n",
    "    ),\n",
    "    strategy=cirq.InsertStrategy.EARLIEST\n",
    ")\n",
    "\n",
    "print(len(lih_state_preparation_circuit))"
   ]
  },
  {
   "cell_type": "code",
   "execution_count": 7,
   "metadata": {},
   "outputs": [
    {
     "name": "stdout",
     "output_type": "stream",
     "text": [
      "3840\n"
     ]
    }
   ],
   "source": [
    "# Trotter simulation circuit\n",
    "# --------------------------\n",
    "n_steps = 10  # Determines depth of circuit\n",
    "order = 0\n",
    "\n",
    "lih_simulation_circuit = cirq.Circuit.from_ops(\n",
    "    ofc.simulate_trotter(\n",
    "        qubits,\n",
    "        lih_hamiltonian,\n",
    "        time=1.0,\n",
    "        n_steps=n_steps,\n",
    "        order=order,\n",
    "        algorithm=ofc.trotter.LOW_RANK\n",
    "    ),\n",
    "    strategy=cirq.InsertStrategy.EARLIEST\n",
    ")\n",
    "\n",
    "print(len(lih_simulation_circuit))"
   ]
  }
 ],
 "metadata": {
  "kernelspec": {
   "display_name": "Python 3",
   "language": "python",
   "name": "python3"
  },
  "language_info": {
   "codemirror_mode": {
    "name": "ipython",
    "version": 3
   },
   "file_extension": ".py",
   "mimetype": "text/x-python",
   "name": "python",
   "nbconvert_exporter": "python",
   "pygments_lexer": "ipython3",
   "version": "3.6.4"
  }
 },
 "nbformat": 4,
 "nbformat_minor": 2
}
