{
 "cells": [
  {
   "cell_type": "code",
   "execution_count": 77,
   "metadata": {},
   "outputs": [
    {
     "data": {
      "text/html": [
       "<pre style=\"overflow: auto; white-space: pre;\">msg: ────────────X^-0.25───────@───H───M───@───\n",
       "                               │           │\n",
       "shared_alice: ─────────────X───X───M───@───┼───\n",
       "                           │           │   │\n",
       "shared_bob: ─────H─────────@───────────X───@───</pre>"
      ],
      "text/plain": [
       "msg: ────────────X^-0.25───────@───H───M───@───\n",
       "                               │           │\n",
       "shared_alice: ─────────────X───X───M───@───┼───\n",
       "                           │           │   │\n",
       "shared_bob: ─────H─────────@───────────X───@───"
      ]
     },
     "execution_count": 77,
     "metadata": {},
     "output_type": "execute_result"
    }
   ],
   "source": [
    "import cirq \n",
    "\n",
    "msg, shared_alice, shared_bob = cirq.NamedQubit(\"msg\"), cirq.NamedQubit(\"shared_alice\"), cirq.NamedQubit(\"shared_bob\")\n",
    "\n",
    "\n",
    "\n",
    "c = cirq.Circuit(\n",
    "   cirq.H(shared_bob), cirq.CNOT(shared_bob, shared_alice), \n",
    "   (cirq.X**(-1/4))(msg), \n",
    "   cirq.CNOT(msg, shared_alice),  cirq.H(msg),\n",
    "   cirq.measure(shared_alice),    \n",
    "   cirq.measure(msg),    \n",
    "         cirq.CX(shared_alice, shared_bob),\n",
    "   cirq.CZ(msg, shared_bob)\n",
    ")\n",
    "\n",
    "c "
   ]
  },
  {
   "cell_type": "code",
   "execution_count": 84,
   "metadata": {},
   "outputs": [
    {
     "data": {
      "text/plain": [
       "measurements: msg=1 shared_alice=0\n",
       "output vector: (0.854-0.354j)|100⟩ + (0.146+0.354j)|101⟩"
      ]
     },
     "execution_count": 84,
     "metadata": {},
     "output_type": "execute_result"
    }
   ],
   "source": [
    "cirq.Simulator().simulate(c)"
   ]
  },
  {
   "cell_type": "code",
   "execution_count": 70,
   "metadata": {},
   "outputs": [
    {
     "name": "stdout",
     "output_type": "stream",
     "text": [
      "expected state on bob is output vector: (0.854-0.354j)|0⟩ + (0.146+0.354j)|1⟩\n"
     ]
    }
   ],
   "source": [
    "print(\"expected state on bob is output vector: (0.854-0.354j)|0⟩ + (0.146+0.354j)|1⟩\")"
   ]
  },
  {
   "cell_type": "code",
   "execution_count": null,
   "metadata": {},
   "outputs": [],
   "source": []
  }
 ],
 "metadata": {
  "kernelspec": {
   "display_name": "Python 3",
   "language": "python",
   "name": "python3"
  },
  "language_info": {
   "codemirror_mode": {
    "name": "ipython",
    "version": 3
   },
   "file_extension": ".py",
   "mimetype": "text/x-python",
   "name": "python",
   "nbconvert_exporter": "python",
   "pygments_lexer": "ipython3",
   "version": "3.7.7"
  }
 },
 "nbformat": 4,
 "nbformat_minor": 4
}
